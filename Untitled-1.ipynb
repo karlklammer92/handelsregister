{
 "cells": [
  {
   "cell_type": "markdown",
   "metadata": {},
   "source": [
    "# Importieren der erforderlichen Bibliotheken\n",
    "Importieren Sie die erforderlichen Bibliotheken, einschließlich os, subprocess, time, selenium, dotenv und rich."
   ]
  },
  {
   "cell_type": "code",
   "execution_count": 28,
   "metadata": {},
   "outputs": [],
   "source": [
    "# Importieren der erforderlichen Bibliotheken\n",
    "import os\n",
    "import subprocess\n",
    "import time\n",
    "from selenium import webdriver\n",
    "from selenium.webdriver.support import expected_conditions as EC\n",
    "from selenium.webdriver.common.by import By\n",
    "from dotenv import load_dotenv\n",
    "from rich.console import Console#\n",
    "from selenium.webdriver.support.ui import WebDriverWait"
   ]
  },
  {
   "cell_type": "markdown",
   "metadata": {},
   "source": [
    "# Initialisierung des Webdrivers\n",
    "Definieren Sie eine Funktion, die den Chrome WebDriver initialisiert, mit optionalen Headless-Modus."
   ]
  },
  {
   "cell_type": "code",
   "execution_count": 29,
   "metadata": {},
   "outputs": [],
   "source": [
    "# Definieren Sie die Ausgabeverzeichnisse\n",
    "OUTPUT_DIR_HR = \"/Users/moritzphilips/Projekte/olgadataminer/HR_Berichte\"\n",
    "\n",
    "# Initialisierung des Webdrivers\n",
    "def initialize_webdriver():\n",
    "    \"\"\"\n",
    "    Initialisiert den Chrome WebDriver mit optionalem Headless-Modus.\n",
    "    \"\"\"\n",
    "    chrome_options = webdriver.ChromeOptions()\n",
    "    prefs = {\"download.default_directory\": OUTPUT_DIR_HR}\n",
    "    chrome_options.add_experimental_option(\"prefs\", prefs)\n",
    "    return webdriver.Chrome(options=chrome_options)"
   ]
  },
  {
   "cell_type": "markdown",
   "metadata": {},
   "source": [
    "# Herunterladen des Handelsregisterdokuments\n",
    "Definieren Sie eine Funktion, die das Handelsregisterdokument für ein gegebenes Unternehmen herunterlädt."
   ]
  },
  {
   "cell_type": "code",
   "execution_count": 31,
   "metadata": {},
   "outputs": [],
   "source": [
    "# Herunterladen des Handelsregisterdokuments\n",
    "def download_hr_document(console, company_name):\n",
    "    \"\"\"\n",
    "    Lädt das Handelsregisterdokument für ein gegebenes Unternehmen herunter.\n",
    "    \"\"\"\n",
    "    driver = initialize_webdriver()\n",
    "    try:\n",
    "        console.print(\"Webdriver gestartet...\")\n",
    "\n",
    "        driver.get(\"https://www.handelsregister.de/rp_web/erweitertesuche.xhtml;jsessionid=BA9EF0388AF3CA34F31BA1D9A45F48BD.tc04n02\")\n",
    "        console.print(\"Seite geladen: https://www.handelsregister.de/rp_web/erweitertesuche.xhtml;jsessionid=BA9EF0388AF3CA34F31BA1D9A45F48BD.tc04n02\")\n",
    "\n",
    "        # Warten, bis das Suchfeld geladen ist und den Firmennamen eingeben\n",
    "        search_button = WebDriverWait(driver, 10).until(EC.element_to_be_clickable((By.XPATH, '//*[@id=\"form:btnSuche\"]')))\n",
    "        search_button.click()\n",
    "        \n",
    "        console.print(\"Erstes Suchergebnis ausgewählt\")\n",
    "\n",
    "        # Link/Taste zum Herunterladen des Handelsregisterdokuments anklicken\n",
    "        download_button = driver.find_element_by_xpath('//*[contains(@id, \"popupLink\")]')\n",
    "        download_button.click()\n",
    "        console.print(\"Download gestartet...\")\n",
    "\n",
    "        # Kurze Pause, um sicherzustellen, dass der Download startet\n",
    "        time.sleep(5)\n",
    "\n",
    "        # Datei umbenennen\n",
    "        downloaded_files = os.listdir(OUTPUT_DIR_HR)\n",
    "        downloaded_files.sort(key=lambda x: os.path.getctime(os.path.join(OUTPUT_DIR_HR, x)), reverse=True)\n",
    "        latest_file = downloaded_files[0]\n",
    "        new_filename = f\"{company_name}.pdf\"\n",
    "        os.rename(os.path.join(OUTPUT_DIR_HR, latest_file), os.path.join(OUTPUT_DIR_HR, new_filename))\n",
    "        console.print(f\"Datei umbenannt in {new_filename}\")\n",
    "\n",
    "        # Datei öffnen\n",
    "        subprocess.run([\"open\", os.path.join(OUTPUT_DIR_HR, new_filename)], check=True)\n",
    "        console.print(\"Datei geöffnet\")\n",
    "\n",
    "    except Exception as e:\n",
    "        console.print(f\"Ein Fehler ist aufgetreten: {e}\")\n",
    "\n",
    "    finally:\n",
    "        driver.quit()\n",
    "        console.print(\"Webdriver geschlossen.\")\n",
    "        new_filename = \"\"\n",
    "\n",
    "    return os.path.join(OUTPUT_DIR_HR, new_filename)"
   ]
  },
  {
   "cell_type": "markdown",
   "metadata": {},
   "source": [
    "# Suche im Handelsregister\n",
    "Definieren Sie eine Funktion, die nach einem Unternehmen im Handelsregister sucht und das Dokument herunterlädt."
   ]
  },
  {
   "cell_type": "code",
   "execution_count": 26,
   "metadata": {},
   "outputs": [
    {
     "data": {
      "text/html": [
       "<pre style=\"white-space:pre;overflow-x:auto;line-height:normal;font-family:Menlo,'DejaVu Sans Mono',consolas,'Courier New',monospace\"><span style=\"color: #000080; text-decoration-color: #000080; font-weight: bold\">Willkommen beim Handelsregister-Tool!</span>\n",
       "</pre>\n"
      ],
      "text/plain": [
       "\u001b[1;34mWillkommen beim Handelsregister-Tool!\u001b[0m\n"
      ]
     },
     "metadata": {},
     "output_type": "display_data"
    },
    {
     "data": {
      "text/html": [
       "<pre style=\"white-space:pre;overflow-x:auto;line-height:normal;font-family:Menlo,'DejaVu Sans Mono',consolas,'Courier New',monospace\"><span style=\"color: #000080; text-decoration-color: #000080; font-weight: bold\">Mit diesem Tool können Sie das Handelsregisterdokument für ein bestimmtes Unternehmen herunterladen.</span>\n",
       "</pre>\n"
      ],
      "text/plain": [
       "\u001b[1;34mMit diesem Tool können Sie das Handelsregisterdokument für ein bestimmtes Unternehmen herunterladen.\u001b[0m\n"
      ]
     },
     "metadata": {},
     "output_type": "display_data"
    },
    {
     "data": {
      "text/html": [
       "<pre style=\"white-space:pre;overflow-x:auto;line-height:normal;font-family:Menlo,'DejaVu Sans Mono',consolas,'Courier New',monospace\">Bitte geben Sie den Namen des Unternehmens ein, nach dem Sie suchen möchten: </pre>\n"
      ],
      "text/plain": [
       "Bitte geben Sie den Namen des Unternehmens ein, nach dem Sie suchen möchten: "
      ]
     },
     "metadata": {},
     "output_type": "display_data"
    },
    {
     "data": {
      "text/html": [
       "<pre style=\"white-space:pre;overflow-x:auto;line-height:normal;font-family:Menlo,'DejaVu Sans Mono',consolas,'Courier New',monospace\">Webdriver gestartet<span style=\"color: #808000; text-decoration-color: #808000\">...</span>\n",
       "</pre>\n"
      ],
      "text/plain": [
       "Webdriver gestartet\u001b[33m...\u001b[0m\n"
      ]
     },
     "metadata": {},
     "output_type": "display_data"
    },
    {
     "data": {
      "text/html": [
       "<pre style=\"white-space:pre;overflow-x:auto;line-height:normal;font-family:Menlo,'DejaVu Sans Mono',consolas,'Courier New',monospace\">Seite geladen: \n",
       "<span style=\"color: #0000ff; text-decoration-color: #0000ff; text-decoration: underline\">https://www.handelsregister.de/rp_web/erweitertesuche.xhtml;jsessionid=BA9EF0388AF3CA34F31BA1D9A45F48BD.tc04n02</span>\n",
       "</pre>\n"
      ],
      "text/plain": [
       "Seite geladen: \n",
       "\u001b[4;94mhttps://www.handelsregister.de/rp_web/erweitertesuche.xhtml;\u001b[0m\u001b[4;94mjsessionid\u001b[0m\u001b[4;94m=\u001b[0m\u001b[4;94mBA9EF0388AF3CA34F31BA1D9A45F48BD\u001b[0m\u001b[4;94m.tc04n02\u001b[0m\n"
      ]
     },
     "metadata": {},
     "output_type": "display_data"
    },
    {
     "data": {
      "text/html": [
       "<pre style=\"white-space:pre;overflow-x:auto;line-height:normal;font-family:Menlo,'DejaVu Sans Mono',consolas,'Courier New',monospace\">Ein Fehler ist aufgetreten: Message: \n",
       "Stacktrace:\n",
       "<span style=\"color: #008080; text-decoration-color: #008080; font-weight: bold\">0</span>   chromedriver                        <span style=\"color: #008080; text-decoration-color: #008080; font-weight: bold\">0x000000010513a510</span> chromedriver + <span style=\"color: #008080; text-decoration-color: #008080; font-weight: bold\">4302096</span>\n",
       "<span style=\"color: #008080; text-decoration-color: #008080; font-weight: bold\">1</span>   chromedriver                        <span style=\"color: #008080; text-decoration-color: #008080; font-weight: bold\">0x0000000105132e58</span> chromedriver + <span style=\"color: #008080; text-decoration-color: #008080; font-weight: bold\">4271704</span>\n",
       "<span style=\"color: #008080; text-decoration-color: #008080; font-weight: bold\">2</span>   chromedriver                        <span style=\"color: #008080; text-decoration-color: #008080; font-weight: bold\">0x0000000104d6419c</span> chromedriver + <span style=\"color: #008080; text-decoration-color: #008080; font-weight: bold\">278940</span>\n",
       "<span style=\"color: #008080; text-decoration-color: #008080; font-weight: bold\">3</span>   chromedriver                        <span style=\"color: #008080; text-decoration-color: #008080; font-weight: bold\">0x0000000104da62c4</span> chromedriver + <span style=\"color: #008080; text-decoration-color: #008080; font-weight: bold\">549572</span>\n",
       "<span style=\"color: #008080; text-decoration-color: #008080; font-weight: bold\">4</span>   chromedriver                        <span style=\"color: #008080; text-decoration-color: #008080; font-weight: bold\">0x0000000104ddec5c</span> chromedriver + <span style=\"color: #008080; text-decoration-color: #008080; font-weight: bold\">781404</span>\n",
       "<span style=\"color: #008080; text-decoration-color: #008080; font-weight: bold\">5</span>   chromedriver                        <span style=\"color: #008080; text-decoration-color: #008080; font-weight: bold\">0x0000000104d9b004</span> chromedriver + <span style=\"color: #008080; text-decoration-color: #008080; font-weight: bold\">503812</span>\n",
       "<span style=\"color: #008080; text-decoration-color: #008080; font-weight: bold\">6</span>   chromedriver                        <span style=\"color: #008080; text-decoration-color: #008080; font-weight: bold\">0x0000000104d9b9ec</span> chromedriver + <span style=\"color: #008080; text-decoration-color: #008080; font-weight: bold\">506348</span>\n",
       "<span style=\"color: #008080; text-decoration-color: #008080; font-weight: bold\">7</span>   chromedriver                        <span style=\"color: #008080; text-decoration-color: #008080; font-weight: bold\">0x0000000105102558</span> chromedriver + <span style=\"color: #008080; text-decoration-color: #008080; font-weight: bold\">4072792</span>\n",
       "<span style=\"color: #008080; text-decoration-color: #008080; font-weight: bold\">8</span>   chromedriver                        <span style=\"color: #008080; text-decoration-color: #008080; font-weight: bold\">0x0000000105107004</span> chromedriver + <span style=\"color: #008080; text-decoration-color: #008080; font-weight: bold\">4091908</span>\n",
       "<span style=\"color: #008080; text-decoration-color: #008080; font-weight: bold\">9</span>   chromedriver                        <span style=\"color: #008080; text-decoration-color: #008080; font-weight: bold\">0x00000001050e979c</span> chromedriver + <span style=\"color: #008080; text-decoration-color: #008080; font-weight: bold\">3970972</span>\n",
       "<span style=\"color: #008080; text-decoration-color: #008080; font-weight: bold\">10</span>  chromedriver                        <span style=\"color: #008080; text-decoration-color: #008080; font-weight: bold\">0x00000001051078ec</span> chromedriver + <span style=\"color: #008080; text-decoration-color: #008080; font-weight: bold\">4094188</span>\n",
       "<span style=\"color: #008080; text-decoration-color: #008080; font-weight: bold\">11</span>  chromedriver                        <span style=\"color: #008080; text-decoration-color: #008080; font-weight: bold\">0x00000001050dc71c</span> chromedriver + <span style=\"color: #008080; text-decoration-color: #008080; font-weight: bold\">3917596</span>\n",
       "<span style=\"color: #008080; text-decoration-color: #008080; font-weight: bold\">12</span>  chromedriver                        <span style=\"color: #008080; text-decoration-color: #008080; font-weight: bold\">0x0000000105124b50</span> chromedriver + <span style=\"color: #008080; text-decoration-color: #008080; font-weight: bold\">4213584</span>\n",
       "<span style=\"color: #008080; text-decoration-color: #008080; font-weight: bold\">13</span>  chromedriver                        <span style=\"color: #008080; text-decoration-color: #008080; font-weight: bold\">0x0000000105124ccc</span> chromedriver + <span style=\"color: #008080; text-decoration-color: #008080; font-weight: bold\">4213964</span>\n",
       "<span style=\"color: #008080; text-decoration-color: #008080; font-weight: bold\">14</span>  chromedriver                        <span style=\"color: #008080; text-decoration-color: #008080; font-weight: bold\">0x0000000105132a50</span> chromedriver + <span style=\"color: #008080; text-decoration-color: #008080; font-weight: bold\">4270672</span>\n",
       "<span style=\"color: #008080; text-decoration-color: #008080; font-weight: bold\">15</span>  libsystem_pthread.dylib             <span style=\"color: #008080; text-decoration-color: #008080; font-weight: bold\">0x000000019587af94</span> _pthread_start + <span style=\"color: #008080; text-decoration-color: #008080; font-weight: bold\">136</span>\n",
       "<span style=\"color: #008080; text-decoration-color: #008080; font-weight: bold\">16</span>  libsystem_pthread.dylib             <span style=\"color: #008080; text-decoration-color: #008080; font-weight: bold\">0x0000000195875d34</span> thread_start + <span style=\"color: #008080; text-decoration-color: #008080; font-weight: bold\">8</span>\n",
       "\n",
       "</pre>\n"
      ],
      "text/plain": [
       "Ein Fehler ist aufgetreten: Message: \n",
       "Stacktrace:\n",
       "\u001b[1;36m0\u001b[0m   chromedriver                        \u001b[1;36m0x000000010513a510\u001b[0m chromedriver + \u001b[1;36m4302096\u001b[0m\n",
       "\u001b[1;36m1\u001b[0m   chromedriver                        \u001b[1;36m0x0000000105132e58\u001b[0m chromedriver + \u001b[1;36m4271704\u001b[0m\n",
       "\u001b[1;36m2\u001b[0m   chromedriver                        \u001b[1;36m0x0000000104d6419c\u001b[0m chromedriver + \u001b[1;36m278940\u001b[0m\n",
       "\u001b[1;36m3\u001b[0m   chromedriver                        \u001b[1;36m0x0000000104da62c4\u001b[0m chromedriver + \u001b[1;36m549572\u001b[0m\n",
       "\u001b[1;36m4\u001b[0m   chromedriver                        \u001b[1;36m0x0000000104ddec5c\u001b[0m chromedriver + \u001b[1;36m781404\u001b[0m\n",
       "\u001b[1;36m5\u001b[0m   chromedriver                        \u001b[1;36m0x0000000104d9b004\u001b[0m chromedriver + \u001b[1;36m503812\u001b[0m\n",
       "\u001b[1;36m6\u001b[0m   chromedriver                        \u001b[1;36m0x0000000104d9b9ec\u001b[0m chromedriver + \u001b[1;36m506348\u001b[0m\n",
       "\u001b[1;36m7\u001b[0m   chromedriver                        \u001b[1;36m0x0000000105102558\u001b[0m chromedriver + \u001b[1;36m4072792\u001b[0m\n",
       "\u001b[1;36m8\u001b[0m   chromedriver                        \u001b[1;36m0x0000000105107004\u001b[0m chromedriver + \u001b[1;36m4091908\u001b[0m\n",
       "\u001b[1;36m9\u001b[0m   chromedriver                        \u001b[1;36m0x00000001050e979c\u001b[0m chromedriver + \u001b[1;36m3970972\u001b[0m\n",
       "\u001b[1;36m10\u001b[0m  chromedriver                        \u001b[1;36m0x00000001051078ec\u001b[0m chromedriver + \u001b[1;36m4094188\u001b[0m\n",
       "\u001b[1;36m11\u001b[0m  chromedriver                        \u001b[1;36m0x00000001050dc71c\u001b[0m chromedriver + \u001b[1;36m3917596\u001b[0m\n",
       "\u001b[1;36m12\u001b[0m  chromedriver                        \u001b[1;36m0x0000000105124b50\u001b[0m chromedriver + \u001b[1;36m4213584\u001b[0m\n",
       "\u001b[1;36m13\u001b[0m  chromedriver                        \u001b[1;36m0x0000000105124ccc\u001b[0m chromedriver + \u001b[1;36m4213964\u001b[0m\n",
       "\u001b[1;36m14\u001b[0m  chromedriver                        \u001b[1;36m0x0000000105132a50\u001b[0m chromedriver + \u001b[1;36m4270672\u001b[0m\n",
       "\u001b[1;36m15\u001b[0m  libsystem_pthread.dylib             \u001b[1;36m0x000000019587af94\u001b[0m _pthread_start + \u001b[1;36m136\u001b[0m\n",
       "\u001b[1;36m16\u001b[0m  libsystem_pthread.dylib             \u001b[1;36m0x0000000195875d34\u001b[0m thread_start + \u001b[1;36m8\u001b[0m\n",
       "\n"
      ]
     },
     "metadata": {},
     "output_type": "display_data"
    },
    {
     "data": {
      "text/html": [
       "<pre style=\"white-space:pre;overflow-x:auto;line-height:normal;font-family:Menlo,'DejaVu Sans Mono',consolas,'Courier New',monospace\">Webdriver geschlossen.\n",
       "</pre>\n"
      ],
      "text/plain": [
       "Webdriver geschlossen.\n"
      ]
     },
     "metadata": {},
     "output_type": "display_data"
    }
   ],
   "source": [
    "# Suche im Handelsregister\n",
    "def search_hr(console):\n",
    "    \"\"\"\n",
    "    Sucht nach einem Unternehmen im Handelsregister und lädt das Dokument herunter.\n",
    "    \"\"\"\n",
    "    company_name = console.input(\"Bitte geben Sie den Namen des Unternehmens ein, nach dem Sie suchen möchten: \")\n",
    "    return download_hr_document(console, company_name)\n",
    "\n",
    "# Hauptprogramm\n",
    "if __name__ == \"__main__\":\n",
    "    console = Console()\n",
    "    console.print(\"Willkommen beim Handelsregister-Tool!\", style=\"bold blue\")\n",
    "    console.print(\"Mit diesem Tool können Sie das Handelsregisterdokument für ein bestimmtes Unternehmen herunterladen.\", style=\"bold blue\")\n",
    "    search_hr(console)"
   ]
  },
  {
   "cell_type": "markdown",
   "metadata": {},
   "source": [
    "# Hauptprogramm\n",
    "Definieren Sie das Hauptprogramm, das die Konsoleneingabe für den Unternehmensnamen verarbeitet und die Suche im Handelsregister startet."
   ]
  },
  {
   "cell_type": "code",
   "execution_count": 27,
   "metadata": {},
   "outputs": [
    {
     "data": {
      "text/html": [
       "<pre style=\"white-space:pre;overflow-x:auto;line-height:normal;font-family:Menlo,'DejaVu Sans Mono',consolas,'Courier New',monospace\"><span style=\"color: #000080; text-decoration-color: #000080; font-weight: bold\">Willkommen beim Handelsregister-Tool!</span>\n",
       "</pre>\n"
      ],
      "text/plain": [
       "\u001b[1;34mWillkommen beim Handelsregister-Tool!\u001b[0m\n"
      ]
     },
     "metadata": {},
     "output_type": "display_data"
    },
    {
     "data": {
      "text/html": [
       "<pre style=\"white-space:pre;overflow-x:auto;line-height:normal;font-family:Menlo,'DejaVu Sans Mono',consolas,'Courier New',monospace\"><span style=\"color: #000080; text-decoration-color: #000080; font-weight: bold\">Mit diesem Tool können Sie das Handelsregisterdokument für ein bestimmtes Unternehmen herunterladen.</span>\n",
       "</pre>\n"
      ],
      "text/plain": [
       "\u001b[1;34mMit diesem Tool können Sie das Handelsregisterdokument für ein bestimmtes Unternehmen herunterladen.\u001b[0m\n"
      ]
     },
     "metadata": {},
     "output_type": "display_data"
    },
    {
     "data": {
      "text/html": [
       "<pre style=\"white-space:pre;overflow-x:auto;line-height:normal;font-family:Menlo,'DejaVu Sans Mono',consolas,'Courier New',monospace\">Bitte geben Sie den Namen des Unternehmens ein, nach dem Sie suchen möchten: </pre>\n"
      ],
      "text/plain": [
       "Bitte geben Sie den Namen des Unternehmens ein, nach dem Sie suchen möchten: "
      ]
     },
     "metadata": {},
     "output_type": "display_data"
    },
    {
     "data": {
      "text/html": [
       "<pre style=\"white-space:pre;overflow-x:auto;line-height:normal;font-family:Menlo,'DejaVu Sans Mono',consolas,'Courier New',monospace\">Webdriver gestartet<span style=\"color: #808000; text-decoration-color: #808000\">...</span>\n",
       "</pre>\n"
      ],
      "text/plain": [
       "Webdriver gestartet\u001b[33m...\u001b[0m\n"
      ]
     },
     "metadata": {},
     "output_type": "display_data"
    },
    {
     "data": {
      "text/html": [
       "<pre style=\"white-space:pre;overflow-x:auto;line-height:normal;font-family:Menlo,'DejaVu Sans Mono',consolas,'Courier New',monospace\">Seite geladen: \n",
       "<span style=\"color: #0000ff; text-decoration-color: #0000ff; text-decoration: underline\">https://www.handelsregister.de/rp_web/erweitertesuche.xhtml;jsessionid=BA9EF0388AF3CA34F31BA1D9A45F48BD.tc04n02</span>\n",
       "</pre>\n"
      ],
      "text/plain": [
       "Seite geladen: \n",
       "\u001b[4;94mhttps://www.handelsregister.de/rp_web/erweitertesuche.xhtml;\u001b[0m\u001b[4;94mjsessionid\u001b[0m\u001b[4;94m=\u001b[0m\u001b[4;94mBA9EF0388AF3CA34F31BA1D9A45F48BD\u001b[0m\u001b[4;94m.tc04n02\u001b[0m\n"
      ]
     },
     "metadata": {},
     "output_type": "display_data"
    },
    {
     "data": {
      "text/html": [
       "<pre style=\"white-space:pre;overflow-x:auto;line-height:normal;font-family:Menlo,'DejaVu Sans Mono',consolas,'Courier New',monospace\">Ein Fehler ist aufgetreten: Message: \n",
       "Stacktrace:\n",
       "<span style=\"color: #008080; text-decoration-color: #008080; font-weight: bold\">0</span>   chromedriver                        <span style=\"color: #008080; text-decoration-color: #008080; font-weight: bold\">0x00000001047ce510</span> chromedriver + <span style=\"color: #008080; text-decoration-color: #008080; font-weight: bold\">4302096</span>\n",
       "<span style=\"color: #008080; text-decoration-color: #008080; font-weight: bold\">1</span>   chromedriver                        <span style=\"color: #008080; text-decoration-color: #008080; font-weight: bold\">0x00000001047c6e58</span> chromedriver + <span style=\"color: #008080; text-decoration-color: #008080; font-weight: bold\">4271704</span>\n",
       "<span style=\"color: #008080; text-decoration-color: #008080; font-weight: bold\">2</span>   chromedriver                        <span style=\"color: #008080; text-decoration-color: #008080; font-weight: bold\">0x00000001043f819c</span> chromedriver + <span style=\"color: #008080; text-decoration-color: #008080; font-weight: bold\">278940</span>\n",
       "<span style=\"color: #008080; text-decoration-color: #008080; font-weight: bold\">3</span>   chromedriver                        <span style=\"color: #008080; text-decoration-color: #008080; font-weight: bold\">0x000000010443a2c4</span> chromedriver + <span style=\"color: #008080; text-decoration-color: #008080; font-weight: bold\">549572</span>\n",
       "<span style=\"color: #008080; text-decoration-color: #008080; font-weight: bold\">4</span>   chromedriver                        <span style=\"color: #008080; text-decoration-color: #008080; font-weight: bold\">0x0000000104472c5c</span> chromedriver + <span style=\"color: #008080; text-decoration-color: #008080; font-weight: bold\">781404</span>\n",
       "<span style=\"color: #008080; text-decoration-color: #008080; font-weight: bold\">5</span>   chromedriver                        <span style=\"color: #008080; text-decoration-color: #008080; font-weight: bold\">0x000000010442f004</span> chromedriver + <span style=\"color: #008080; text-decoration-color: #008080; font-weight: bold\">503812</span>\n",
       "<span style=\"color: #008080; text-decoration-color: #008080; font-weight: bold\">6</span>   chromedriver                        <span style=\"color: #008080; text-decoration-color: #008080; font-weight: bold\">0x000000010442f9ec</span> chromedriver + <span style=\"color: #008080; text-decoration-color: #008080; font-weight: bold\">506348</span>\n",
       "<span style=\"color: #008080; text-decoration-color: #008080; font-weight: bold\">7</span>   chromedriver                        <span style=\"color: #008080; text-decoration-color: #008080; font-weight: bold\">0x0000000104796558</span> chromedriver + <span style=\"color: #008080; text-decoration-color: #008080; font-weight: bold\">4072792</span>\n",
       "<span style=\"color: #008080; text-decoration-color: #008080; font-weight: bold\">8</span>   chromedriver                        <span style=\"color: #008080; text-decoration-color: #008080; font-weight: bold\">0x000000010479b004</span> chromedriver + <span style=\"color: #008080; text-decoration-color: #008080; font-weight: bold\">4091908</span>\n",
       "<span style=\"color: #008080; text-decoration-color: #008080; font-weight: bold\">9</span>   chromedriver                        <span style=\"color: #008080; text-decoration-color: #008080; font-weight: bold\">0x000000010477d79c</span> chromedriver + <span style=\"color: #008080; text-decoration-color: #008080; font-weight: bold\">3970972</span>\n",
       "<span style=\"color: #008080; text-decoration-color: #008080; font-weight: bold\">10</span>  chromedriver                        <span style=\"color: #008080; text-decoration-color: #008080; font-weight: bold\">0x000000010479b8ec</span> chromedriver + <span style=\"color: #008080; text-decoration-color: #008080; font-weight: bold\">4094188</span>\n",
       "<span style=\"color: #008080; text-decoration-color: #008080; font-weight: bold\">11</span>  chromedriver                        <span style=\"color: #008080; text-decoration-color: #008080; font-weight: bold\">0x000000010477071c</span> chromedriver + <span style=\"color: #008080; text-decoration-color: #008080; font-weight: bold\">3917596</span>\n",
       "<span style=\"color: #008080; text-decoration-color: #008080; font-weight: bold\">12</span>  chromedriver                        <span style=\"color: #008080; text-decoration-color: #008080; font-weight: bold\">0x00000001047b8b50</span> chromedriver + <span style=\"color: #008080; text-decoration-color: #008080; font-weight: bold\">4213584</span>\n",
       "<span style=\"color: #008080; text-decoration-color: #008080; font-weight: bold\">13</span>  chromedriver                        <span style=\"color: #008080; text-decoration-color: #008080; font-weight: bold\">0x00000001047b8ccc</span> chromedriver + <span style=\"color: #008080; text-decoration-color: #008080; font-weight: bold\">4213964</span>\n",
       "<span style=\"color: #008080; text-decoration-color: #008080; font-weight: bold\">14</span>  chromedriver                        <span style=\"color: #008080; text-decoration-color: #008080; font-weight: bold\">0x00000001047c6a50</span> chromedriver + <span style=\"color: #008080; text-decoration-color: #008080; font-weight: bold\">4270672</span>\n",
       "<span style=\"color: #008080; text-decoration-color: #008080; font-weight: bold\">15</span>  libsystem_pthread.dylib             <span style=\"color: #008080; text-decoration-color: #008080; font-weight: bold\">0x000000019587af94</span> _pthread_start + <span style=\"color: #008080; text-decoration-color: #008080; font-weight: bold\">136</span>\n",
       "<span style=\"color: #008080; text-decoration-color: #008080; font-weight: bold\">16</span>  libsystem_pthread.dylib             <span style=\"color: #008080; text-decoration-color: #008080; font-weight: bold\">0x0000000195875d34</span> thread_start + <span style=\"color: #008080; text-decoration-color: #008080; font-weight: bold\">8</span>\n",
       "\n",
       "</pre>\n"
      ],
      "text/plain": [
       "Ein Fehler ist aufgetreten: Message: \n",
       "Stacktrace:\n",
       "\u001b[1;36m0\u001b[0m   chromedriver                        \u001b[1;36m0x00000001047ce510\u001b[0m chromedriver + \u001b[1;36m4302096\u001b[0m\n",
       "\u001b[1;36m1\u001b[0m   chromedriver                        \u001b[1;36m0x00000001047c6e58\u001b[0m chromedriver + \u001b[1;36m4271704\u001b[0m\n",
       "\u001b[1;36m2\u001b[0m   chromedriver                        \u001b[1;36m0x00000001043f819c\u001b[0m chromedriver + \u001b[1;36m278940\u001b[0m\n",
       "\u001b[1;36m3\u001b[0m   chromedriver                        \u001b[1;36m0x000000010443a2c4\u001b[0m chromedriver + \u001b[1;36m549572\u001b[0m\n",
       "\u001b[1;36m4\u001b[0m   chromedriver                        \u001b[1;36m0x0000000104472c5c\u001b[0m chromedriver + \u001b[1;36m781404\u001b[0m\n",
       "\u001b[1;36m5\u001b[0m   chromedriver                        \u001b[1;36m0x000000010442f004\u001b[0m chromedriver + \u001b[1;36m503812\u001b[0m\n",
       "\u001b[1;36m6\u001b[0m   chromedriver                        \u001b[1;36m0x000000010442f9ec\u001b[0m chromedriver + \u001b[1;36m506348\u001b[0m\n",
       "\u001b[1;36m7\u001b[0m   chromedriver                        \u001b[1;36m0x0000000104796558\u001b[0m chromedriver + \u001b[1;36m4072792\u001b[0m\n",
       "\u001b[1;36m8\u001b[0m   chromedriver                        \u001b[1;36m0x000000010479b004\u001b[0m chromedriver + \u001b[1;36m4091908\u001b[0m\n",
       "\u001b[1;36m9\u001b[0m   chromedriver                        \u001b[1;36m0x000000010477d79c\u001b[0m chromedriver + \u001b[1;36m3970972\u001b[0m\n",
       "\u001b[1;36m10\u001b[0m  chromedriver                        \u001b[1;36m0x000000010479b8ec\u001b[0m chromedriver + \u001b[1;36m4094188\u001b[0m\n",
       "\u001b[1;36m11\u001b[0m  chromedriver                        \u001b[1;36m0x000000010477071c\u001b[0m chromedriver + \u001b[1;36m3917596\u001b[0m\n",
       "\u001b[1;36m12\u001b[0m  chromedriver                        \u001b[1;36m0x00000001047b8b50\u001b[0m chromedriver + \u001b[1;36m4213584\u001b[0m\n",
       "\u001b[1;36m13\u001b[0m  chromedriver                        \u001b[1;36m0x00000001047b8ccc\u001b[0m chromedriver + \u001b[1;36m4213964\u001b[0m\n",
       "\u001b[1;36m14\u001b[0m  chromedriver                        \u001b[1;36m0x00000001047c6a50\u001b[0m chromedriver + \u001b[1;36m4270672\u001b[0m\n",
       "\u001b[1;36m15\u001b[0m  libsystem_pthread.dylib             \u001b[1;36m0x000000019587af94\u001b[0m _pthread_start + \u001b[1;36m136\u001b[0m\n",
       "\u001b[1;36m16\u001b[0m  libsystem_pthread.dylib             \u001b[1;36m0x0000000195875d34\u001b[0m thread_start + \u001b[1;36m8\u001b[0m\n",
       "\n"
      ]
     },
     "metadata": {},
     "output_type": "display_data"
    },
    {
     "data": {
      "text/html": [
       "<pre style=\"white-space:pre;overflow-x:auto;line-height:normal;font-family:Menlo,'DejaVu Sans Mono',consolas,'Courier New',monospace\">Webdriver geschlossen.\n",
       "</pre>\n"
      ],
      "text/plain": [
       "Webdriver geschlossen.\n"
      ]
     },
     "metadata": {},
     "output_type": "display_data"
    }
   ],
   "source": [
    "# Hauptprogramm\n",
    "if __name__ == \"__main__\":\n",
    "    console = Console()\n",
    "    console.print(\"Willkommen beim Handelsregister-Tool!\", style=\"bold blue\")\n",
    "    console.print(\"Mit diesem Tool können Sie das Handelsregisterdokument für ein bestimmtes Unternehmen herunterladen.\", style=\"bold blue\")\n",
    "    search_hr(console)"
   ]
  }
 ],
 "metadata": {
  "kernelspec": {
   "display_name": ".csvscraperenv",
   "language": "python",
   "name": "python3"
  },
  "language_info": {
   "codemirror_mode": {
    "name": "ipython",
    "version": 3
   },
   "file_extension": ".py",
   "mimetype": "text/x-python",
   "name": "python",
   "nbconvert_exporter": "python",
   "pygments_lexer": "ipython3",
   "version": "3.11.7"
  }
 },
 "nbformat": 4,
 "nbformat_minor": 2
}
